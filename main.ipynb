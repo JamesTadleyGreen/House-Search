{
 "cells": [
  {
   "cell_type": "code",
   "execution_count": 66,
   "source": [
    "%load_ext autoreload\r\n",
    "%autoreload 2\r\n",
    "import get_data"
   ],
   "outputs": [
    {
     "output_type": "stream",
     "name": "stdout",
     "text": [
      "The autoreload extension is already loaded. To reload it, use:\n",
      "  %reload_ext autoreload\n"
     ]
    }
   ],
   "metadata": {}
  },
  {
   "cell_type": "code",
   "execution_count": 48,
   "source": [
    "get_data.get_postcode(\"M1+1JB\")"
   ],
   "outputs": [],
   "metadata": {}
  },
  {
   "cell_type": "code",
   "execution_count": 102,
   "source": [
    "import json\r\n",
    "j = json.loads(get_data.get_response('5E504062', 25, 0.25).text)\r\n",
    "with open('tmp.json', 'w') as f:\r\n",
    "    f.write(json.dumps(j['properties'][1]))\r\n",
    "\r\n"
   ],
   "outputs": [
    {
     "output_type": "stream",
     "name": "stdout",
     "text": [
      "https://www.rightmove.co.uk/api/_search?locationIdentifier=POSTCODE%5E504062&numberOfPropertiesPerPage=25&radius=0.25&sortType=2&index=0&includeSSTC=true&viewType=LIST&channel=BUY&areaSizeUnit=sqft&currencyCode=GBP&isFetching=true&viewport=\n"
     ]
    }
   ],
   "metadata": {}
  },
  {
   "cell_type": "code",
   "execution_count": 97,
   "source": [
    "house_data = get_data.data_to_pandas(\"M14+6RZ\", 10)"
   ],
   "outputs": [],
   "metadata": {}
  },
  {
   "cell_type": "code",
   "execution_count": 101,
   "source": [
    "json.dumps(house_data.iloc[7]['json'])"
   ],
   "outputs": [
    {
     "output_type": "execute_result",
     "data": {
      "text/plain": [
       "'{\"id\": 88267612, \"bedrooms\": 10, \"bathrooms\": 0, \"numberOfImages\": 10, \"numberOfFloorplans\": 1, \"numberOfVirtualTours\": 0, \"summary\": \"****** INVESTMENT OPPORTUNITY ****** Currently let for \\\\u00a34275pcm (rooms are let for between \\\\u00a3375-\\\\u00a3450pcm). Nicholas Humphreys Manchester are delighted to offer For sale this ideally located semi detached property that is split into 2 flats with a total of 10 bedrooms. The basemen...\", \"displayAddress\": \"Parsonage Road, Manchester\", \"countryCode\": \"GB\", \"location\": {\"latitude\": 53.433723, \"longitude\": -2.226363}, \"propertySubType\": \"Block of Apartments\", \"listingUpdate\": {\"listingUpdateReason\": \"price_reduced\", \"listingUpdateDate\": \"2021-05-05T14:38:22Z\"}, \"premiumListing\": false, \"featuredProperty\": false, \"price\": {\"amount\": 695000, \"frequency\": \"not specified\", \"currencyCode\": \"GBP\", \"displayPrices\": [{\"displayPrice\": \"\\\\u00a3695,000\", \"displayPriceQualifier\": \"\"}]}, \"customer\": {\"branchId\": 105344, \"brandPlusLogoURI\": \"/106k/105344/branch_rmchoice_logo_105344_0000.jpeg\", \"contactTelephone\": \"0161 468 3876\", \"branchDisplayName\": \"Nicholas Humphreys, Manchester\", \"branchName\": \"Manchester\", \"brandTradingName\": \"Nicholas Humphreys\", \"branchLandingPageUrl\": \"/estate-agents/agent/Nicholas-Humphreys/Manchester-105344.html\", \"development\": false, \"showReducedProperties\": true, \"commercial\": false, \"showOnMap\": true, \"enhancedListing\": false, \"developmentContent\": null, \"buildToRent\": false, \"buildToRentBenefits\": [], \"brandPlusLogoUrl\": \"https://media.rightmove.co.uk:443/dir/106k/105344/branch_rmchoice_logo_105344_0000_max_100x50.jpeg\"}, \"distance\": 0.6802, \"transactionType\": \"buy\", \"productLabel\": {\"productLabelText\": \"\", \"spotlightLabel\": false}, \"commercial\": false, \"development\": false, \"residential\": true, \"students\": false, \"auction\": false, \"feesApply\": false, \"feesApplyText\": null, \"displaySize\": \"\", \"showOnMap\": true, \"propertyUrl\": \"/properties/88267612#/?channel=RES_BUY\", \"contactUrl\": \"/property-for-sale/contactBranch.html?propertyId=88267612\", \"staticMapUrl\": null, \"channel\": \"BUY\", \"firstVisibleDate\": \"2021-01-12T10:09:25Z\", \"keywords\": [], \"keywordMatchType\": \"no_keyword\", \"saved\": false, \"hidden\": false, \"onlineViewingsAvailable\": false, \"lozengeModel\": {\"matchingLozenges\": []}, \"enhancedListing\": false, \"heading\": \"\", \"propertyImages\": {\"images\": [{\"srcUrl\": \"https://media.rightmove.co.uk:443/dir/crop/10:9-16:9/106k/105344/88267612/105344_30318600_IMG_00_0000_max_476x317.jpeg\", \"url\": \"106k/105344/88267612/105344_30318600_IMG_00_0000.jpeg\", \"caption\": \"Front\"}, {\"srcUrl\": \"https://media.rightmove.co.uk:443/dir/crop/10:9-16:9/106k/105344/88267612/105344_30318600_IMG_01_0000_max_476x317.jpeg\", \"url\": \"106k/105344/88267612/105344_30318600_IMG_01_0000.jpeg\", \"caption\": \"1,17Lounge.jpg\"}, {\"srcUrl\": \"https://media.rightmove.co.uk:443/dir/crop/10:9-16:9/106k/105344/88267612/105344_30318600_IMG_02_0000_max_476x317.jpeg\", \"url\": \"106k/105344/88267612/105344_30318600_IMG_02_0000.jpeg\", \"caption\": \"1,17Bathroom.jpg\"}, {\"srcUrl\": \"https://media.rightmove.co.uk:443/dir/crop/10:9-16:9/106k/105344/88267612/105344_30318600_IMG_03_0000_max_476x317.jpeg\", \"url\": \"106k/105344/88267612/105344_30318600_IMG_03_0000.jpeg\", \"caption\": \"1,17Kitchen.jpg\"}, {\"srcUrl\": \"https://media.rightmove.co.uk:443/dir/crop/10:9-16:9/106k/105344/88267612/105344_30318600_IMG_04_0000_max_476x317.jpeg\", \"url\": \"106k/105344/88267612/105344_30318600_IMG_04_0000.jpeg\", \"caption\": \"1,17Bedroom2.jpg\"}, {\"srcUrl\": \"https://media.rightmove.co.uk:443/dir/crop/10:9-16:9/106k/105344/88267612/105344_30318600_IMG_05_0000_max_476x317.jpeg\", \"url\": \"106k/105344/88267612/105344_30318600_IMG_05_0000.jpeg\", \"caption\": \"1,17Bedroom4.jpg\"}, {\"srcUrl\": \"https://media.rightmove.co.uk:443/dir/crop/10:9-16:9/106k/105344/88267612/105344_30318600_IMG_06_0000_max_476x317.jpeg\", \"url\": \"106k/105344/88267612/105344_30318600_IMG_06_0000.jpeg\", \"caption\": \"2,17Bedroom3.jpg\"}, {\"srcUrl\": \"https://media.rightmove.co.uk:443/dir/crop/10:9-16:9/106k/105344/88267612/105344_30318600_IMG_07_0000_max_476x317.jpeg\", \"url\": \"106k/105344/88267612/105344_30318600_IMG_07_0000.jpeg\", \"caption\": \"2,17Lounge.jpg\"}, {\"srcUrl\": \"https://media.rightmove.co.uk:443/dir/crop/10:9-16:9/106k/105344/88267612/105344_30318600_IMG_08_0000_max_476x317.jpeg\", \"url\": \"106k/105344/88267612/105344_30318600_IMG_08_0000.jpeg\", \"caption\": \"2,17Bedroom5.jpg\"}, {\"srcUrl\": \"https://media.rightmove.co.uk:443/dir/crop/10:9-16:9/106k/105344/88267612/105344_30318600_IMG_09_0000_max_476x317.jpeg\", \"url\": \"106k/105344/88267612/105344_30318600_IMG_09_0000.jpeg\", \"caption\": \"2,17Bathroom.jpg\"}], \"mainImageSrc\": \"https://media.rightmove.co.uk:443/dir/crop/10:9-16:9/106k/105344/88267612/105344_30318600_IMG_00_0000_max_476x317.jpeg\", \"mainMapImageSrc\": \"https://media.rightmove.co.uk:443/dir/crop/10:9-16:9/106k/105344/88267612/105344_30318600_IMG_00_0000_max_296x197.jpeg\"}, \"displayStatus\": \"\", \"formattedBranchName\": \" by Nicholas Humphreys, Manchester\", \"addedOrReduced\": \"Reduced on 05/05/2021\", \"isRecent\": false, \"formattedDistance\": \"0.68 miles\", \"hasBrandPlus\": true, \"propertyTypeFullDescription\": \"10 bedroom block of apartments for sale\"}'"
      ]
     },
     "metadata": {},
     "execution_count": 101
    }
   ],
   "metadata": {}
  }
 ],
 "metadata": {
  "orig_nbformat": 4,
  "language_info": {
   "name": "python",
   "version": "3.9.1",
   "mimetype": "text/x-python",
   "codemirror_mode": {
    "name": "ipython",
    "version": 3
   },
   "pygments_lexer": "ipython3",
   "nbconvert_exporter": "python",
   "file_extension": ".py"
  },
  "kernelspec": {
   "name": "python3",
   "display_name": "Python 3.9.1 64-bit ('venv': venv)"
  },
  "interpreter": {
   "hash": "4e8b40c4b339e761c515e0d548e05f5c47dc473325ab7160e9263c6b820a5bc4"
  }
 },
 "nbformat": 4,
 "nbformat_minor": 2
}